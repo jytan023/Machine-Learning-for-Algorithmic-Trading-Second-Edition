{
 "cells": [
  {
   "cell_type": "code",
   "execution_count": 1,
   "metadata": {},
   "outputs": [
    {
     "name": "stdout",
     "output_type": "stream",
     "text": [
      "<class 'pandas.io.pytables.HDFStore'>\n",
      "File path: ..\\..\\07_linear_models\\data.h5\n",
      "/lasso/coeffs                    frame        (shape->[8,33])      \n",
      "/lasso/predictions               frame        (shape->[592432,3])  \n",
      "/lasso/scores                    frame        (shape->[6000,3])    \n",
      "/logistic/coeffs                 frame        (shape->[11,33])     \n",
      "/logistic/predictions            frame        (shape->[814594,4])  \n",
      "/logistic/scores                 frame        (shape->[825,5])     \n",
      "/lr/predictions                  frame        (shape->[74054,2])   \n",
      "/lr/scores                       frame        (shape->[750,2])     \n",
      "/model_data                      frame        (shape->[2904233,69])\n",
      "/ridge/coeffs                    frame        (shape->[18,33])     \n",
      "/ridge/predictions               frame        (shape->[1332972,3]) \n",
      "/ridge/scores                    frame        (shape->[13500,3])   \n",
      "<class 'pandas.core.frame.DataFrame'>\n",
      "MultiIndex: 190451 entries, ('AAPL', Timestamp('2014-12-09 00:00:00')) to ('LNG', Timestamp('2017-11-30 00:00:00'))\n",
      "Data columns (total 6 columns):\n",
      " #   Column     Non-Null Count   Dtype  \n",
      "---  ------     --------------   -----  \n",
      " 0   predicted  74054 non-null   float64\n",
      " 1   open       190451 non-null  float64\n",
      " 2   high       190451 non-null  float64\n",
      " 3   low        190451 non-null  float64\n",
      " 4   close      190451 non-null  float64\n",
      " 5   volume     190451 non-null  float64\n",
      "dtypes: float64(6)\n",
      "memory usage: 14.2+ MB\n",
      "None\n"
     ]
    }
   ],
   "source": [
    "from pathlib import Path\n",
    "import numpy as np\n",
    "import pandas as pd\n",
    "from scipy.stats import spearmanr\n",
    "\n",
    "pd.set_option('display.expand_frame_repr', False)\n",
    "np.random.seed(42)\n",
    "\n",
    "PROJECT_DIR = Path('..', '..')\n",
    "\n",
    "DATA_DIR = PROJECT_DIR /'data'\n",
    "# print(DATA_DIR)\n",
    "\n",
    "def get_backtest_data(predictions='lasso/predictions'):\n",
    "    \"\"\"Combine chapter 7 lr/lasso/ridge regression predictions\n",
    "        with adjusted OHLCV Quandl Wiki data\"\"\"\n",
    "    with pd.HDFStore(DATA_DIR / 'assets.h5') as store:\n",
    "        prices = (store['quandl/wiki/prices']\n",
    "                  .filter(like='adj')\n",
    "                  .rename(columns=lambda x: x.replace('adj_', ''))\n",
    "                  .swaplevel(axis=0))\n",
    "\n",
    "    with pd.HDFStore(PROJECT_DIR / '07_linear_models/data.h5') as store:\n",
    "        print(store.info())\n",
    "        predictions = store[predictions]\n",
    "\n",
    "    best_alpha = predictions.groupby('alpha').apply(lambda x: spearmanr(x.actuals, x.predicted)[0]).idxmax()\n",
    "    predictions = predictions[predictions.alpha == best_alpha]\n",
    "    predictions.index.names = ['ticker', 'date']\n",
    "    tickers = predictions.index.get_level_values('ticker').unique()\n",
    "    start = predictions.index.get_level_values('date').min().strftime('%Y-%m-%d')\n",
    "    stop = (predictions.index.get_level_values('date').max() + pd.DateOffset(1)).strftime('%Y-%m-%d')\n",
    "    idx = pd.IndexSlice\n",
    "    prices = prices.sort_index().loc[idx[tickers, start:stop], :]\n",
    "    predictions = predictions.loc[predictions.alpha == best_alpha, ['predicted']]\n",
    "    return predictions.join(prices, how='right')\n",
    "\n",
    "\n",
    "df = get_backtest_data('lasso/predictions')\n",
    "print(df.info())\n",
    "df.to_hdf('backtest.h5', 'data')\n"
   ]
  }
 ],
 "metadata": {
  "kernelspec": {
   "display_name": "venv",
   "language": "python",
   "name": "python3"
  },
  "language_info": {
   "codemirror_mode": {
    "name": "ipython",
    "version": 3
   },
   "file_extension": ".py",
   "mimetype": "text/x-python",
   "name": "python",
   "nbconvert_exporter": "python",
   "pygments_lexer": "ipython3",
   "version": "3.10.8"
  },
  "orig_nbformat": 4,
  "vscode": {
   "interpreter": {
    "hash": "76e00306fe54e9616e8278d0ea70030ac79c27b4df856d98114d8e931a9d4cc9"
   }
  }
 },
 "nbformat": 4,
 "nbformat_minor": 2
}
