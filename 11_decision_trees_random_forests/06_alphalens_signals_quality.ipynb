{
 "cells": [
  {
   "cell_type": "markdown",
   "metadata": {},
   "source": [
    "# Testing the signal quality with Alphalens"
   ]
  },
  {
   "cell_type": "markdown",
   "metadata": {},
   "source": [
    "## Imports & Settings"
   ]
  },
  {
   "cell_type": "code",
   "execution_count": 1,
   "metadata": {
    "ExecuteTime": {
     "end_time": "2021-04-16T00:42:05.205903Z",
     "start_time": "2021-04-16T00:42:05.203761Z"
    }
   },
   "outputs": [],
   "source": [
    "import warnings\n",
    "warnings.filterwarnings('ignore')"
   ]
  },
  {
   "cell_type": "code",
   "execution_count": 2,
   "metadata": {
    "ExecuteTime": {
     "end_time": "2021-04-16T00:42:06.096855Z",
     "start_time": "2021-04-16T00:42:05.365100Z"
    },
    "scrolled": true
   },
   "outputs": [],
   "source": [
    "%matplotlib inline\n",
    "\n",
    "from pathlib import Path\n",
    "import pandas as pd\n",
    "import seaborn as sns\n",
    "\n",
    "from alphalens.tears import (create_summary_tear_sheet,\n",
    "                             create_full_tear_sheet)\n",
    "\n",
    "from alphalens.utils import get_clean_factor_and_forward_returns"
   ]
  },
  {
   "cell_type": "code",
   "execution_count": 3,
   "metadata": {
    "ExecuteTime": {
     "end_time": "2021-04-16T00:42:06.100045Z",
     "start_time": "2021-04-16T00:42:06.097934Z"
    },
    "scrolled": true
   },
   "outputs": [],
   "source": [
    "sns.set_style('whitegrid')"
   ]
  },
  {
   "cell_type": "code",
   "execution_count": 4,
   "metadata": {
    "ExecuteTime": {
     "end_time": "2021-04-16T00:42:06.114949Z",
     "start_time": "2021-04-16T00:42:06.101264Z"
    },
    "scrolled": true
   },
   "outputs": [],
   "source": [
    "idx = pd.IndexSlice"
   ]
  },
  {
   "cell_type": "code",
   "execution_count": 5,
   "metadata": {
    "ExecuteTime": {
     "end_time": "2021-04-16T00:42:06.124939Z",
     "start_time": "2021-04-16T00:42:06.116212Z"
    }
   },
   "outputs": [],
   "source": [
    "results_path = Path('results', 'return_predictions')\n",
    "if not results_path.exists():\n",
    "    results_path.mkdir(parents=True)"
   ]
  },
  {
   "cell_type": "markdown",
   "metadata": {},
   "source": [
    "## Evaluating the Cross-Validation Results"
   ]
  },
  {
   "cell_type": "code",
   "execution_count": 6,
   "metadata": {
    "ExecuteTime": {
     "end_time": "2021-04-16T00:42:06.655281Z",
     "start_time": "2021-04-16T00:42:06.653442Z"
    }
   },
   "outputs": [],
   "source": [
    "lookahead = 1"
   ]
  },
  {
   "cell_type": "code",
   "execution_count": 7,
   "metadata": {
    "ExecuteTime": {
     "end_time": "2021-04-16T00:42:06.819524Z",
     "start_time": "2021-04-16T00:42:06.817565Z"
    }
   },
   "outputs": [],
   "source": [
    "cv_store = Path(results_path / 'parameter_tuning.h5')"
   ]
  },
  {
   "cell_type": "markdown",
   "metadata": {},
   "source": [
    "### Get AlphaLens Input"
   ]
  },
  {
   "cell_type": "code",
   "execution_count": 8,
   "metadata": {
    "ExecuteTime": {
     "end_time": "2021-04-16T00:42:08.941276Z",
     "start_time": "2021-04-16T00:42:08.939124Z"
    }
   },
   "outputs": [],
   "source": [
    "DATA_DIR = Path('..', 'data')"
   ]
  },
  {
   "cell_type": "markdown",
   "metadata": {},
   "source": [
    "Using next available prices."
   ]
  },
  {
   "cell_type": "code",
   "execution_count": 9,
   "metadata": {
    "ExecuteTime": {
     "end_time": "2021-04-16T00:42:09.217610Z",
     "start_time": "2021-04-16T00:42:09.214776Z"
    },
    "scrolled": true
   },
   "outputs": [],
   "source": [
    "def get_trade_prices(tickers):\n",
    "    store = DATA_DIR / 'assets.h5'\n",
    "    prices = pd.read_hdf(store, 'stooq/jp/tse/stocks/prices')\n",
    "    return (prices.loc[idx[tickers, '2014': '2019'], 'open']\n",
    "            .unstack('ticker')\n",
    "            .sort_index()\n",
    "            .shift(-1)\n",
    "            .dropna()\n",
    "            .tz_localize('UTC'))"
   ]
  },
  {
   "cell_type": "markdown",
   "metadata": {},
   "source": [
    "Reloading predictions."
   ]
  },
  {
   "cell_type": "code",
   "execution_count": 10,
   "metadata": {
    "ExecuteTime": {
     "end_time": "2021-04-16T00:42:09.888811Z",
     "start_time": "2021-04-16T00:42:09.544796Z"
    }
   },
   "outputs": [
    {
     "name": "stdout",
     "output_type": "stream",
     "text": [
      "<class 'pandas.core.frame.DataFrame'>\n",
      "MultiIndex: 474264 entries, ('9984.JP', Timestamp('2019-11-29 00:00:00')) to ('1882.JP', Timestamp('2018-01-05 00:00:00'))\n",
      "Data columns (total 11 columns):\n",
      " #   Column  Non-Null Count   Dtype  \n",
      "---  ------  --------------   -----  \n",
      " 0   y_test  474264 non-null  float64\n",
      " 1   0       474264 non-null  float64\n",
      " 2   1       474264 non-null  float64\n",
      " 3   2       470500 non-null  float64\n",
      " 4   3       474264 non-null  float64\n",
      " 5   4       474264 non-null  float64\n",
      " 6   5       470500 non-null  float64\n",
      " 7   6       470500 non-null  float64\n",
      " 8   7       474264 non-null  float64\n",
      " 9   8       474264 non-null  float64\n",
      " 10  9       470500 non-null  float64\n",
      "dtypes: float64(11)\n",
      "memory usage: 41.7+ MB\n"
     ]
    }
   ],
   "source": [
    "best_predictions = pd.read_hdf(results_path / 'predictions.h5', f'test/{lookahead:02}')\n",
    "best_predictions.info()"
   ]
  },
  {
   "cell_type": "code",
   "execution_count": 11,
   "metadata": {
    "ExecuteTime": {
     "end_time": "2021-04-16T00:42:09.941040Z",
     "start_time": "2021-04-16T00:42:09.890602Z"
    }
   },
   "outputs": [],
   "source": [
    "test_tickers = best_predictions.index.get_level_values('ticker').unique()"
   ]
  },
  {
   "cell_type": "code",
   "execution_count": 12,
   "metadata": {
    "ExecuteTime": {
     "end_time": "2021-04-16T00:44:10.448754Z",
     "start_time": "2021-04-16T00:42:09.942491Z"
    },
    "scrolled": true
   },
   "outputs": [
    {
     "name": "stdout",
     "output_type": "stream",
     "text": [
      "<class 'pandas.core.frame.DataFrame'>\n",
      "DatetimeIndex: 1464 entries, 2014-01-06 00:00:00+00:00 to 2019-12-27 00:00:00+00:00\n",
      "Columns: 941 entries, 9984.JP to 1882.JP\n",
      "dtypes: float64(941)\n",
      "memory usage: 10.5 MB\n"
     ]
    }
   ],
   "source": [
    "trade_prices = get_trade_prices(test_tickers)\n",
    "trade_prices.info()"
   ]
  },
  {
   "cell_type": "code",
   "execution_count": 13,
   "metadata": {
    "ExecuteTime": {
     "end_time": "2021-04-16T00:44:10.583930Z",
     "start_time": "2021-04-16T00:44:10.450000Z"
    }
   },
   "outputs": [],
   "source": [
    "factor = (best_predictions\n",
    "          .iloc[:, :3]\n",
    "          .mean(1)\n",
    "          .tz_localize('UTC', level='date')\n",
    "          .swaplevel()\n",
    "          .dropna()\n",
    "          .reset_index()\n",
    "          .drop_duplicates()\n",
    "          .set_index(['date', 'ticker']))"
   ]
  },
  {
   "cell_type": "code",
   "execution_count": 14,
   "metadata": {
    "ExecuteTime": {
     "end_time": "2021-04-16T00:44:15.362968Z",
     "start_time": "2021-04-16T00:44:10.584971Z"
    },
    "scrolled": false
   },
   "outputs": [
    {
     "name": "stdout",
     "output_type": "stream",
     "text": [
      "Dropped 4.2% entries from factor data: 4.2% in forward returns computation and 0.0% in binning phase (set max_loss=0 to see potentially suppressed Exceptions).\n",
      "max_loss is 35.0%, not exceeded: OK!\n",
      "<class 'pandas.core.frame.DataFrame'>\n",
      "MultiIndex: 454503 entries, (Timestamp('2017-12-05 00:00:00+0000', tz='UTC', freq='C'), '1301.JP') to (Timestamp('2019-11-28 00:00:00+0000', tz='UTC', freq='C'), '9990.JP')\n",
      "Data columns (total 6 columns):\n",
      " #   Column           Non-Null Count   Dtype  \n",
      "---  ------           --------------   -----  \n",
      " 0   1D               454503 non-null  float64\n",
      " 1   5D               454503 non-null  float64\n",
      " 2   10D              454503 non-null  float64\n",
      " 3   21D              454503 non-null  float64\n",
      " 4   factor           454503 non-null  float64\n",
      " 5   factor_quantile  454503 non-null  int64  \n",
      "dtypes: float64(5), int64(1)\n",
      "memory usage: 22.6+ MB\n"
     ]
    }
   ],
   "source": [
    "factor_data = get_clean_factor_and_forward_returns(factor=factor,\n",
    "                                                   prices=trade_prices,\n",
    "                                                   quantiles=5,\n",
    "                                                   periods=(1, 5, 10, 21))\n",
    "factor_data.sort_index().info()"
   ]
  },
  {
   "cell_type": "markdown",
   "metadata": {},
   "source": [
    "### Summary Tearsheet"
   ]
  },
  {
   "cell_type": "code",
   "execution_count": 15,
   "metadata": {
    "ExecuteTime": {
     "end_time": "2021-04-16T00:44:32.900136Z",
     "start_time": "2021-04-16T00:44:15.364291Z"
    },
    "scrolled": false
   },
   "outputs": [
    {
     "name": "stdout",
     "output_type": "stream",
     "text": [
      "Quantiles Statistics\n"
     ]
    },
    {
     "data": {
      "text/html": [
       "<div>\n",
       "<style scoped>\n",
       "    .dataframe tbody tr th:only-of-type {\n",
       "        vertical-align: middle;\n",
       "    }\n",
       "\n",
       "    .dataframe tbody tr th {\n",
       "        vertical-align: top;\n",
       "    }\n",
       "\n",
       "    .dataframe thead th {\n",
       "        text-align: right;\n",
       "    }\n",
       "</style>\n",
       "<table border=\"1\" class=\"dataframe\">\n",
       "  <thead>\n",
       "    <tr style=\"text-align: right;\">\n",
       "      <th></th>\n",
       "      <th>min</th>\n",
       "      <th>max</th>\n",
       "      <th>mean</th>\n",
       "      <th>std</th>\n",
       "      <th>count</th>\n",
       "      <th>count %</th>\n",
       "    </tr>\n",
       "    <tr>\n",
       "      <th>factor_quantile</th>\n",
       "      <th></th>\n",
       "      <th></th>\n",
       "      <th></th>\n",
       "      <th></th>\n",
       "      <th></th>\n",
       "      <th></th>\n",
       "    </tr>\n",
       "  </thead>\n",
       "  <tbody>\n",
       "    <tr>\n",
       "      <th>1</th>\n",
       "      <td>-0.149771</td>\n",
       "      <td>0.008785</td>\n",
       "      <td>-0.006698</td>\n",
       "      <td>0.006516</td>\n",
       "      <td>91290</td>\n",
       "      <td>20.085676</td>\n",
       "    </tr>\n",
       "    <tr>\n",
       "      <th>2</th>\n",
       "      <td>-0.025457</td>\n",
       "      <td>0.012804</td>\n",
       "      <td>-0.001964</td>\n",
       "      <td>0.004145</td>\n",
       "      <td>90808</td>\n",
       "      <td>19.979626</td>\n",
       "    </tr>\n",
       "    <tr>\n",
       "      <th>3</th>\n",
       "      <td>-0.021445</td>\n",
       "      <td>0.015681</td>\n",
       "      <td>0.000205</td>\n",
       "      <td>0.004042</td>\n",
       "      <td>90800</td>\n",
       "      <td>19.977866</td>\n",
       "    </tr>\n",
       "    <tr>\n",
       "      <th>4</th>\n",
       "      <td>-0.018386</td>\n",
       "      <td>0.019790</td>\n",
       "      <td>0.002430</td>\n",
       "      <td>0.004127</td>\n",
       "      <td>90804</td>\n",
       "      <td>19.978746</td>\n",
       "    </tr>\n",
       "    <tr>\n",
       "      <th>5</th>\n",
       "      <td>-0.014789</td>\n",
       "      <td>0.129243</td>\n",
       "      <td>0.007657</td>\n",
       "      <td>0.006926</td>\n",
       "      <td>90801</td>\n",
       "      <td>19.978086</td>\n",
       "    </tr>\n",
       "  </tbody>\n",
       "</table>\n",
       "</div>"
      ],
      "text/plain": [
       "                      min       max      mean       std  count    count %\n",
       "factor_quantile                                                          \n",
       "1               -0.149771  0.008785 -0.006698  0.006516  91290  20.085676\n",
       "2               -0.025457  0.012804 -0.001964  0.004145  90808  19.979626\n",
       "3               -0.021445  0.015681  0.000205  0.004042  90800  19.977866\n",
       "4               -0.018386  0.019790  0.002430  0.004127  90804  19.978746\n",
       "5               -0.014789  0.129243  0.007657  0.006926  90801  19.978086"
      ]
     },
     "metadata": {},
     "output_type": "display_data"
    },
    {
     "name": "stdout",
     "output_type": "stream",
     "text": [
      "Returns Analysis\n"
     ]
    },
    {
     "data": {
      "text/html": [
       "<div>\n",
       "<style scoped>\n",
       "    .dataframe tbody tr th:only-of-type {\n",
       "        vertical-align: middle;\n",
       "    }\n",
       "\n",
       "    .dataframe tbody tr th {\n",
       "        vertical-align: top;\n",
       "    }\n",
       "\n",
       "    .dataframe thead th {\n",
       "        text-align: right;\n",
       "    }\n",
       "</style>\n",
       "<table border=\"1\" class=\"dataframe\">\n",
       "  <thead>\n",
       "    <tr style=\"text-align: right;\">\n",
       "      <th></th>\n",
       "      <th>1D</th>\n",
       "      <th>5D</th>\n",
       "      <th>10D</th>\n",
       "      <th>21D</th>\n",
       "    </tr>\n",
       "  </thead>\n",
       "  <tbody>\n",
       "    <tr>\n",
       "      <th>Ann. alpha</th>\n",
       "      <td>57.323</td>\n",
       "      <td>1.176</td>\n",
       "      <td>0.467</td>\n",
       "      <td>0.195</td>\n",
       "    </tr>\n",
       "    <tr>\n",
       "      <th>beta</th>\n",
       "      <td>-0.020</td>\n",
       "      <td>-0.035</td>\n",
       "      <td>-0.018</td>\n",
       "      <td>-0.007</td>\n",
       "    </tr>\n",
       "    <tr>\n",
       "      <th>Mean Period Wise Return Top Quantile (bps)</th>\n",
       "      <td>154.069</td>\n",
       "      <td>29.155</td>\n",
       "      <td>14.324</td>\n",
       "      <td>6.590</td>\n",
       "    </tr>\n",
       "    <tr>\n",
       "      <th>Mean Period Wise Return Bottom Quantile (bps)</th>\n",
       "      <td>-149.244</td>\n",
       "      <td>-29.194</td>\n",
       "      <td>-14.446</td>\n",
       "      <td>-6.708</td>\n",
       "    </tr>\n",
       "    <tr>\n",
       "      <th>Mean Period Wise Spread (bps)</th>\n",
       "      <td>303.313</td>\n",
       "      <td>58.355</td>\n",
       "      <td>28.774</td>\n",
       "      <td>13.299</td>\n",
       "    </tr>\n",
       "  </tbody>\n",
       "</table>\n",
       "</div>"
      ],
      "text/plain": [
       "                                                    1D      5D     10D     21D\n",
       "Ann. alpha                                      57.323   1.176   0.467   0.195\n",
       "beta                                            -0.020  -0.035  -0.018  -0.007\n",
       "Mean Period Wise Return Top Quantile (bps)     154.069  29.155  14.324   6.590\n",
       "Mean Period Wise Return Bottom Quantile (bps) -149.244 -29.194 -14.446  -6.708\n",
       "Mean Period Wise Spread (bps)                  303.313  58.355  28.774  13.299"
      ]
     },
     "metadata": {},
     "output_type": "display_data"
    },
    {
     "name": "stdout",
     "output_type": "stream",
     "text": [
      "Information Analysis\n"
     ]
    },
    {
     "data": {
      "text/html": [
       "<div>\n",
       "<style scoped>\n",
       "    .dataframe tbody tr th:only-of-type {\n",
       "        vertical-align: middle;\n",
       "    }\n",
       "\n",
       "    .dataframe tbody tr th {\n",
       "        vertical-align: top;\n",
       "    }\n",
       "\n",
       "    .dataframe thead th {\n",
       "        text-align: right;\n",
       "    }\n",
       "</style>\n",
       "<table border=\"1\" class=\"dataframe\">\n",
       "  <thead>\n",
       "    <tr style=\"text-align: right;\">\n",
       "      <th></th>\n",
       "      <th>1D</th>\n",
       "      <th>5D</th>\n",
       "      <th>10D</th>\n",
       "      <th>21D</th>\n",
       "    </tr>\n",
       "  </thead>\n",
       "  <tbody>\n",
       "    <tr>\n",
       "      <th>IC Mean</th>\n",
       "      <td>0.682</td>\n",
       "      <td>0.287</td>\n",
       "      <td>0.201</td>\n",
       "      <td>0.133</td>\n",
       "    </tr>\n",
       "    <tr>\n",
       "      <th>IC Std.</th>\n",
       "      <td>0.089</td>\n",
       "      <td>0.115</td>\n",
       "      <td>0.119</td>\n",
       "      <td>0.116</td>\n",
       "    </tr>\n",
       "    <tr>\n",
       "      <th>Risk-Adjusted IC</th>\n",
       "      <td>7.669</td>\n",
       "      <td>2.508</td>\n",
       "      <td>1.695</td>\n",
       "      <td>1.148</td>\n",
       "    </tr>\n",
       "    <tr>\n",
       "      <th>t-stat(IC)</th>\n",
       "      <td>168.545</td>\n",
       "      <td>55.123</td>\n",
       "      <td>37.261</td>\n",
       "      <td>25.221</td>\n",
       "    </tr>\n",
       "    <tr>\n",
       "      <th>p-value(IC)</th>\n",
       "      <td>0.000</td>\n",
       "      <td>0.000</td>\n",
       "      <td>0.000</td>\n",
       "      <td>0.000</td>\n",
       "    </tr>\n",
       "    <tr>\n",
       "      <th>IC Skew</th>\n",
       "      <td>-1.874</td>\n",
       "      <td>-0.190</td>\n",
       "      <td>-0.202</td>\n",
       "      <td>-0.298</td>\n",
       "    </tr>\n",
       "    <tr>\n",
       "      <th>IC Kurtosis</th>\n",
       "      <td>9.867</td>\n",
       "      <td>0.672</td>\n",
       "      <td>0.797</td>\n",
       "      <td>0.851</td>\n",
       "    </tr>\n",
       "  </tbody>\n",
       "</table>\n",
       "</div>"
      ],
      "text/plain": [
       "                       1D      5D     10D     21D\n",
       "IC Mean             0.682   0.287   0.201   0.133\n",
       "IC Std.             0.089   0.115   0.119   0.116\n",
       "Risk-Adjusted IC    7.669   2.508   1.695   1.148\n",
       "t-stat(IC)        168.545  55.123  37.261  25.221\n",
       "p-value(IC)         0.000   0.000   0.000   0.000\n",
       "IC Skew            -1.874  -0.190  -0.202  -0.298\n",
       "IC Kurtosis         9.867   0.672   0.797   0.851"
      ]
     },
     "metadata": {},
     "output_type": "display_data"
    },
    {
     "name": "stdout",
     "output_type": "stream",
     "text": [
      "Turnover Analysis\n"
     ]
    },
    {
     "data": {
      "text/html": [
       "<div>\n",
       "<style scoped>\n",
       "    .dataframe tbody tr th:only-of-type {\n",
       "        vertical-align: middle;\n",
       "    }\n",
       "\n",
       "    .dataframe tbody tr th {\n",
       "        vertical-align: top;\n",
       "    }\n",
       "\n",
       "    .dataframe thead th {\n",
       "        text-align: right;\n",
       "    }\n",
       "</style>\n",
       "<table border=\"1\" class=\"dataframe\">\n",
       "  <thead>\n",
       "    <tr style=\"text-align: right;\">\n",
       "      <th></th>\n",
       "      <th>1D</th>\n",
       "      <th>5D</th>\n",
       "      <th>10D</th>\n",
       "      <th>21D</th>\n",
       "    </tr>\n",
       "  </thead>\n",
       "  <tbody>\n",
       "    <tr>\n",
       "      <th>Quantile 1 Mean Turnover</th>\n",
       "      <td>0.784</td>\n",
       "      <td>0.786</td>\n",
       "      <td>0.789</td>\n",
       "      <td>0.786</td>\n",
       "    </tr>\n",
       "    <tr>\n",
       "      <th>Quantile 2 Mean Turnover</th>\n",
       "      <td>0.789</td>\n",
       "      <td>0.794</td>\n",
       "      <td>0.796</td>\n",
       "      <td>0.794</td>\n",
       "    </tr>\n",
       "    <tr>\n",
       "      <th>Quantile 3 Mean Turnover</th>\n",
       "      <td>0.778</td>\n",
       "      <td>0.787</td>\n",
       "      <td>0.790</td>\n",
       "      <td>0.790</td>\n",
       "    </tr>\n",
       "    <tr>\n",
       "      <th>Quantile 4 Mean Turnover</th>\n",
       "      <td>0.794</td>\n",
       "      <td>0.793</td>\n",
       "      <td>0.798</td>\n",
       "      <td>0.796</td>\n",
       "    </tr>\n",
       "    <tr>\n",
       "      <th>Quantile 5 Mean Turnover</th>\n",
       "      <td>0.774</td>\n",
       "      <td>0.785</td>\n",
       "      <td>0.786</td>\n",
       "      <td>0.785</td>\n",
       "    </tr>\n",
       "  </tbody>\n",
       "</table>\n",
       "</div>"
      ],
      "text/plain": [
       "                              1D     5D    10D    21D\n",
       "Quantile 1 Mean Turnover   0.784  0.786  0.789  0.786\n",
       "Quantile 2 Mean Turnover   0.789  0.794  0.796  0.794\n",
       "Quantile 3 Mean Turnover   0.778  0.787  0.790  0.790\n",
       "Quantile 4 Mean Turnover   0.794  0.793  0.798  0.796\n",
       "Quantile 5 Mean Turnover   0.774  0.785  0.786  0.785"
      ]
     },
     "metadata": {},
     "output_type": "display_data"
    },
    {
     "data": {
      "text/html": [
       "<div>\n",
       "<style scoped>\n",
       "    .dataframe tbody tr th:only-of-type {\n",
       "        vertical-align: middle;\n",
       "    }\n",
       "\n",
       "    .dataframe tbody tr th {\n",
       "        vertical-align: top;\n",
       "    }\n",
       "\n",
       "    .dataframe thead th {\n",
       "        text-align: right;\n",
       "    }\n",
       "</style>\n",
       "<table border=\"1\" class=\"dataframe\">\n",
       "  <thead>\n",
       "    <tr style=\"text-align: right;\">\n",
       "      <th></th>\n",
       "      <th>1D</th>\n",
       "      <th>5D</th>\n",
       "      <th>10D</th>\n",
       "      <th>21D</th>\n",
       "    </tr>\n",
       "  </thead>\n",
       "  <tbody>\n",
       "    <tr>\n",
       "      <th>Mean Factor Rank Autocorrelation</th>\n",
       "      <td>-0.017</td>\n",
       "      <td>-0.007</td>\n",
       "      <td>-0.007</td>\n",
       "      <td>0.001</td>\n",
       "    </tr>\n",
       "  </tbody>\n",
       "</table>\n",
       "</div>"
      ],
      "text/plain": [
       "                                     1D     5D    10D    21D\n",
       "Mean Factor Rank Autocorrelation -0.017 -0.007 -0.007  0.001"
      ]
     },
     "metadata": {},
     "output_type": "display_data"
    },
    {
     "data": {
      "text/plain": [
       "<Figure size 640x480 with 0 Axes>"
      ]
     },
     "metadata": {},
     "output_type": "display_data"
    },
    {
     "data": {
      "image/png": "[encoded data removed]",
      "text/plain": [
       "<Figure size 1400x9800 with 1 Axes>"
      ]
     },
     "metadata": {},
     "output_type": "display_data"
    }
   ],
   "source": [
    "create_summary_tear_sheet(factor_data)"
   ]
  },
  {
   "cell_type": "markdown",
   "metadata": {},
   "source": [
    "## Evaluating the Out-of-sample predictions"
   ]
  },
  {
   "cell_type": "markdown",
   "metadata": {},
   "source": [
    "### Prepare Factor Data"
   ]
  },
  {
   "cell_type": "code",
   "execution_count": 16,
   "metadata": {
    "ExecuteTime": {
     "end_time": "2021-02-23T21:56:07.039165Z",
     "start_time": "2021-02-23T21:56:06.971729Z"
    },
    "scrolled": false
   },
   "outputs": [],
   "source": [
    "t = 1\n",
    "predictions = pd.read_hdf(results_path / 'predictions.h5',\n",
    "                          f'test/{t:02}').drop('y_test', axis=1)"
   ]
  },
  {
   "cell_type": "code",
   "execution_count": 17,
   "metadata": {
    "ExecuteTime": {
     "end_time": "2021-02-23T21:56:07.056834Z",
     "start_time": "2021-02-23T21:56:07.040029Z"
    }
   },
   "outputs": [
    {
     "name": "stdout",
     "output_type": "stream",
     "text": [
      "<class 'pandas.core.frame.DataFrame'>\n",
      "MultiIndex: 474264 entries, ('9984.JP', Timestamp('2019-11-29 00:00:00')) to ('1882.JP', Timestamp('2018-01-05 00:00:00'))\n",
      "Data columns (total 10 columns):\n",
      " #   Column  Non-Null Count   Dtype  \n",
      "---  ------  --------------   -----  \n",
      " 0   0       474264 non-null  float64\n",
      " 1   1       474264 non-null  float64\n",
      " 2   2       470500 non-null  float64\n",
      " 3   3       474264 non-null  float64\n",
      " 4   4       474264 non-null  float64\n",
      " 5   5       470500 non-null  float64\n",
      " 6   6       470500 non-null  float64\n",
      " 7   7       474264 non-null  float64\n",
      " 8   8       474264 non-null  float64\n",
      " 9   9       470500 non-null  float64\n",
      "dtypes: float64(10)\n",
      "memory usage: 38.1+ MB\n"
     ]
    }
   ],
   "source": [
    "predictions.info()"
   ]
  },
  {
   "cell_type": "code",
   "execution_count": 18,
   "metadata": {
    "ExecuteTime": {
     "end_time": "2021-02-23T21:56:07.123618Z",
     "start_time": "2021-02-23T21:56:07.057679Z"
    }
   },
   "outputs": [
    {
     "data": {
      "text/plain": [
       "date                       ticker \n",
       "2017-12-05 00:00:00+00:00  1301.JP    0.000682\n",
       "2017-12-06 00:00:00+00:00  1301.JP    0.000570\n",
       "2017-12-07 00:00:00+00:00  1301.JP    0.000562\n",
       "2017-12-08 00:00:00+00:00  1301.JP    0.000705\n",
       "2017-12-11 00:00:00+00:00  1301.JP    0.002467\n",
       "dtype: float64"
      ]
     },
     "execution_count": 18,
     "metadata": {},
     "output_type": "execute_result"
    }
   ],
   "source": [
    "factor = (predictions.iloc[:, :10]\n",
    "                   .mean(1)\n",
    "                   .sort_index().tz_localize('UTC', level='date').swaplevel().dropna())\n",
    "factor.head()"
   ]
  },
  {
   "cell_type": "markdown",
   "metadata": {},
   "source": [
    "### Select next available trade prices"
   ]
  },
  {
   "cell_type": "markdown",
   "metadata": {},
   "source": [
    "Using next available prices."
   ]
  },
  {
   "cell_type": "code",
   "execution_count": 19,
   "metadata": {
    "ExecuteTime": {
     "end_time": "2021-02-23T21:57:56.213347Z",
     "start_time": "2021-02-23T21:56:07.124802Z"
    },
    "scrolled": true
   },
   "outputs": [
    {
     "name": "stdout",
     "output_type": "stream",
     "text": [
      "<class 'pandas.core.frame.DataFrame'>\n",
      "DatetimeIndex: 1464 entries, 2014-01-06 00:00:00+00:00 to 2019-12-27 00:00:00+00:00\n",
      "Columns: 941 entries, 1301.JP to 9990.JP\n",
      "dtypes: float64(941)\n",
      "memory usage: 10.5 MB\n"
     ]
    }
   ],
   "source": [
    "tickers = factor.index.get_level_values('ticker').unique()\n",
    "trade_prices = get_trade_prices(tickers)\n",
    "trade_prices.info()"
   ]
  },
  {
   "cell_type": "markdown",
   "metadata": {},
   "source": [
    "### Get AlphaLens Inputs"
   ]
  },
  {
   "cell_type": "code",
   "execution_count": 20,
   "metadata": {
    "ExecuteTime": {
     "end_time": "2021-02-23T21:58:01.225924Z",
     "start_time": "2021-02-23T21:57:56.214344Z"
    },
    "scrolled": false
   },
   "outputs": [
    {
     "name": "stdout",
     "output_type": "stream",
     "text": [
      "Dropped 4.2% entries from factor data: 4.2% in forward returns computation and 0.0% in binning phase (set max_loss=0 to see potentially suppressed Exceptions).\n",
      "max_loss is 35.0%, not exceeded: OK!\n",
      "<class 'pandas.core.frame.DataFrame'>\n",
      "MultiIndex: 454503 entries, (Timestamp('2017-12-05 00:00:00+0000', tz='UTC', freq='C'), '1301.JP') to (Timestamp('2019-11-28 00:00:00+0000', tz='UTC', freq='C'), '9990.JP')\n",
      "Data columns (total 6 columns):\n",
      " #   Column           Non-Null Count   Dtype  \n",
      "---  ------           --------------   -----  \n",
      " 0   1D               454503 non-null  float64\n",
      " 1   5D               454503 non-null  float64\n",
      " 2   10D              454503 non-null  float64\n",
      " 3   21D              454503 non-null  float64\n",
      " 4   factor           454503 non-null  float64\n",
      " 5   factor_quantile  454503 non-null  int64  \n",
      "dtypes: float64(5), int64(1)\n",
      "memory usage: 22.6+ MB\n"
     ]
    }
   ],
   "source": [
    "factor_data = get_clean_factor_and_forward_returns(factor=factor,\n",
    "                                                   prices=trade_prices,\n",
    "                                                   quantiles=5,\n",
    "                                                   periods=(1, 5, 10, 21))\n",
    "factor_data.sort_index().info()"
   ]
  },
  {
   "cell_type": "markdown",
   "metadata": {},
   "source": [
    "### Summary Tearsheet"
   ]
  },
  {
   "cell_type": "code",
   "execution_count": 21,
   "metadata": {
    "ExecuteTime": {
     "end_time": "2021-02-23T21:58:20.197397Z",
     "start_time": "2021-02-23T21:58:01.226791Z"
    },
    "scrolled": false
   },
   "outputs": [
    {
     "name": "stdout",
     "output_type": "stream",
     "text": [
      "Quantiles Statistics\n"
     ]
    },
    {
     "data": {
      "text/html": [
       "<div>\n",
       "<style scoped>\n",
       "    .dataframe tbody tr th:only-of-type {\n",
       "        vertical-align: middle;\n",
       "    }\n",
       "\n",
       "    .dataframe tbody tr th {\n",
       "        vertical-align: top;\n",
       "    }\n",
       "\n",
       "    .dataframe thead th {\n",
       "        text-align: right;\n",
       "    }\n",
       "</style>\n",
       "<table border=\"1\" class=\"dataframe\">\n",
       "  <thead>\n",
       "    <tr style=\"text-align: right;\">\n",
       "      <th></th>\n",
       "      <th>min</th>\n",
       "      <th>max</th>\n",
       "      <th>mean</th>\n",
       "      <th>std</th>\n",
       "      <th>count</th>\n",
       "      <th>count %</th>\n",
       "    </tr>\n",
       "    <tr>\n",
       "      <th>factor_quantile</th>\n",
       "      <th></th>\n",
       "      <th></th>\n",
       "      <th></th>\n",
       "      <th></th>\n",
       "      <th></th>\n",
       "      <th></th>\n",
       "    </tr>\n",
       "  </thead>\n",
       "  <tbody>\n",
       "    <tr>\n",
       "      <th>1</th>\n",
       "      <td>-0.033712</td>\n",
       "      <td>0.012796</td>\n",
       "      <td>-0.001750</td>\n",
       "      <td>0.004278</td>\n",
       "      <td>91309</td>\n",
       "      <td>20.089856</td>\n",
       "    </tr>\n",
       "    <tr>\n",
       "      <th>2</th>\n",
       "      <td>-0.027564</td>\n",
       "      <td>0.012920</td>\n",
       "      <td>-0.000909</td>\n",
       "      <td>0.003816</td>\n",
       "      <td>90793</td>\n",
       "      <td>19.976326</td>\n",
       "    </tr>\n",
       "    <tr>\n",
       "      <th>3</th>\n",
       "      <td>-0.027001</td>\n",
       "      <td>0.015197</td>\n",
       "      <td>-0.000396</td>\n",
       "      <td>0.003683</td>\n",
       "      <td>90803</td>\n",
       "      <td>19.978526</td>\n",
       "    </tr>\n",
       "    <tr>\n",
       "      <th>4</th>\n",
       "      <td>-0.026620</td>\n",
       "      <td>0.016081</td>\n",
       "      <td>0.000158</td>\n",
       "      <td>0.003650</td>\n",
       "      <td>90794</td>\n",
       "      <td>19.976546</td>\n",
       "    </tr>\n",
       "    <tr>\n",
       "      <th>5</th>\n",
       "      <td>-0.026170</td>\n",
       "      <td>0.029528</td>\n",
       "      <td>0.001212</td>\n",
       "      <td>0.003942</td>\n",
       "      <td>90804</td>\n",
       "      <td>19.978746</td>\n",
       "    </tr>\n",
       "  </tbody>\n",
       "</table>\n",
       "</div>"
      ],
      "text/plain": [
       "                      min       max      mean       std  count    count %\n",
       "factor_quantile                                                          \n",
       "1               -0.033712  0.012796 -0.001750  0.004278  91309  20.089856\n",
       "2               -0.027564  0.012920 -0.000909  0.003816  90793  19.976326\n",
       "3               -0.027001  0.015197 -0.000396  0.003683  90803  19.978526\n",
       "4               -0.026620  0.016081  0.000158  0.003650  90794  19.976546\n",
       "5               -0.026170  0.029528  0.001212  0.003942  90804  19.978746"
      ]
     },
     "metadata": {},
     "output_type": "display_data"
    },
    {
     "name": "stdout",
     "output_type": "stream",
     "text": [
      "Returns Analysis\n"
     ]
    },
    {
     "data": {
      "text/html": [
       "<div>\n",
       "<style scoped>\n",
       "    .dataframe tbody tr th:only-of-type {\n",
       "        vertical-align: middle;\n",
       "    }\n",
       "\n",
       "    .dataframe tbody tr th {\n",
       "        vertical-align: top;\n",
       "    }\n",
       "\n",
       "    .dataframe thead th {\n",
       "        text-align: right;\n",
       "    }\n",
       "</style>\n",
       "<table border=\"1\" class=\"dataframe\">\n",
       "  <thead>\n",
       "    <tr style=\"text-align: right;\">\n",
       "      <th></th>\n",
       "      <th>1D</th>\n",
       "      <th>5D</th>\n",
       "      <th>10D</th>\n",
       "      <th>21D</th>\n",
       "    </tr>\n",
       "  </thead>\n",
       "  <tbody>\n",
       "    <tr>\n",
       "      <th>Ann. alpha</th>\n",
       "      <td>0.051</td>\n",
       "      <td>0.040</td>\n",
       "      <td>0.032</td>\n",
       "      <td>0.019</td>\n",
       "    </tr>\n",
       "    <tr>\n",
       "      <th>beta</th>\n",
       "      <td>0.063</td>\n",
       "      <td>0.047</td>\n",
       "      <td>0.035</td>\n",
       "      <td>0.044</td>\n",
       "    </tr>\n",
       "    <tr>\n",
       "      <th>Mean Period Wise Return Top Quantile (bps)</th>\n",
       "      <td>3.339</td>\n",
       "      <td>2.420</td>\n",
       "      <td>1.973</td>\n",
       "      <td>1.080</td>\n",
       "    </tr>\n",
       "    <tr>\n",
       "      <th>Mean Period Wise Return Bottom Quantile (bps)</th>\n",
       "      <td>-1.638</td>\n",
       "      <td>-1.348</td>\n",
       "      <td>-0.918</td>\n",
       "      <td>-0.596</td>\n",
       "    </tr>\n",
       "    <tr>\n",
       "      <th>Mean Period Wise Spread (bps)</th>\n",
       "      <td>4.977</td>\n",
       "      <td>3.764</td>\n",
       "      <td>2.889</td>\n",
       "      <td>1.670</td>\n",
       "    </tr>\n",
       "  </tbody>\n",
       "</table>\n",
       "</div>"
      ],
      "text/plain": [
       "                                                  1D     5D    10D    21D\n",
       "Ann. alpha                                     0.051  0.040  0.032  0.019\n",
       "beta                                           0.063  0.047  0.035  0.044\n",
       "Mean Period Wise Return Top Quantile (bps)     3.339  2.420  1.973  1.080\n",
       "Mean Period Wise Return Bottom Quantile (bps) -1.638 -1.348 -0.918 -0.596\n",
       "Mean Period Wise Spread (bps)                  4.977  3.764  2.889  1.670"
      ]
     },
     "metadata": {},
     "output_type": "display_data"
    },
    {
     "name": "stdout",
     "output_type": "stream",
     "text": [
      "Information Analysis\n"
     ]
    },
    {
     "data": {
      "text/html": [
       "<div>\n",
       "<style scoped>\n",
       "    .dataframe tbody tr th:only-of-type {\n",
       "        vertical-align: middle;\n",
       "    }\n",
       "\n",
       "    .dataframe tbody tr th {\n",
       "        vertical-align: top;\n",
       "    }\n",
       "\n",
       "    .dataframe thead th {\n",
       "        text-align: right;\n",
       "    }\n",
       "</style>\n",
       "<table border=\"1\" class=\"dataframe\">\n",
       "  <thead>\n",
       "    <tr style=\"text-align: right;\">\n",
       "      <th></th>\n",
       "      <th>1D</th>\n",
       "      <th>5D</th>\n",
       "      <th>10D</th>\n",
       "      <th>21D</th>\n",
       "    </tr>\n",
       "  </thead>\n",
       "  <tbody>\n",
       "    <tr>\n",
       "      <th>IC Mean</th>\n",
       "      <td>0.010</td>\n",
       "      <td>0.017</td>\n",
       "      <td>0.018</td>\n",
       "      <td>0.012</td>\n",
       "    </tr>\n",
       "    <tr>\n",
       "      <th>IC Std.</th>\n",
       "      <td>0.101</td>\n",
       "      <td>0.104</td>\n",
       "      <td>0.098</td>\n",
       "      <td>0.106</td>\n",
       "    </tr>\n",
       "    <tr>\n",
       "      <th>Risk-Adjusted IC</th>\n",
       "      <td>0.096</td>\n",
       "      <td>0.161</td>\n",
       "      <td>0.187</td>\n",
       "      <td>0.115</td>\n",
       "    </tr>\n",
       "    <tr>\n",
       "      <th>t-stat(IC)</th>\n",
       "      <td>2.116</td>\n",
       "      <td>3.532</td>\n",
       "      <td>4.100</td>\n",
       "      <td>2.536</td>\n",
       "    </tr>\n",
       "    <tr>\n",
       "      <th>p-value(IC)</th>\n",
       "      <td>0.035</td>\n",
       "      <td>0.000</td>\n",
       "      <td>0.000</td>\n",
       "      <td>0.012</td>\n",
       "    </tr>\n",
       "    <tr>\n",
       "      <th>IC Skew</th>\n",
       "      <td>0.328</td>\n",
       "      <td>0.262</td>\n",
       "      <td>0.287</td>\n",
       "      <td>0.604</td>\n",
       "    </tr>\n",
       "    <tr>\n",
       "      <th>IC Kurtosis</th>\n",
       "      <td>1.673</td>\n",
       "      <td>0.740</td>\n",
       "      <td>0.614</td>\n",
       "      <td>1.172</td>\n",
       "    </tr>\n",
       "  </tbody>\n",
       "</table>\n",
       "</div>"
      ],
      "text/plain": [
       "                     1D     5D    10D    21D\n",
       "IC Mean           0.010  0.017  0.018  0.012\n",
       "IC Std.           0.101  0.104  0.098  0.106\n",
       "Risk-Adjusted IC  0.096  0.161  0.187  0.115\n",
       "t-stat(IC)        2.116  3.532  4.100  2.536\n",
       "p-value(IC)       0.035  0.000  0.000  0.012\n",
       "IC Skew           0.328  0.262  0.287  0.604\n",
       "IC Kurtosis       1.673  0.740  0.614  1.172"
      ]
     },
     "metadata": {},
     "output_type": "display_data"
    },
    {
     "name": "stdout",
     "output_type": "stream",
     "text": [
      "Turnover Analysis\n"
     ]
    },
    {
     "data": {
      "text/html": [
       "<div>\n",
       "<style scoped>\n",
       "    .dataframe tbody tr th:only-of-type {\n",
       "        vertical-align: middle;\n",
       "    }\n",
       "\n",
       "    .dataframe tbody tr th {\n",
       "        vertical-align: top;\n",
       "    }\n",
       "\n",
       "    .dataframe thead th {\n",
       "        text-align: right;\n",
       "    }\n",
       "</style>\n",
       "<table border=\"1\" class=\"dataframe\">\n",
       "  <thead>\n",
       "    <tr style=\"text-align: right;\">\n",
       "      <th></th>\n",
       "      <th>1D</th>\n",
       "      <th>5D</th>\n",
       "      <th>10D</th>\n",
       "      <th>21D</th>\n",
       "    </tr>\n",
       "  </thead>\n",
       "  <tbody>\n",
       "    <tr>\n",
       "      <th>Quantile 1 Mean Turnover</th>\n",
       "      <td>0.682</td>\n",
       "      <td>0.753</td>\n",
       "      <td>0.778</td>\n",
       "      <td>0.794</td>\n",
       "    </tr>\n",
       "    <tr>\n",
       "      <th>Quantile 2 Mean Turnover</th>\n",
       "      <td>0.758</td>\n",
       "      <td>0.784</td>\n",
       "      <td>0.790</td>\n",
       "      <td>0.797</td>\n",
       "    </tr>\n",
       "    <tr>\n",
       "      <th>Quantile 3 Mean Turnover</th>\n",
       "      <td>0.764</td>\n",
       "      <td>0.789</td>\n",
       "      <td>0.791</td>\n",
       "      <td>0.798</td>\n",
       "    </tr>\n",
       "    <tr>\n",
       "      <th>Quantile 4 Mean Turnover</th>\n",
       "      <td>0.761</td>\n",
       "      <td>0.785</td>\n",
       "      <td>0.790</td>\n",
       "      <td>0.800</td>\n",
       "    </tr>\n",
       "    <tr>\n",
       "      <th>Quantile 5 Mean Turnover</th>\n",
       "      <td>0.649</td>\n",
       "      <td>0.713</td>\n",
       "      <td>0.751</td>\n",
       "      <td>0.779</td>\n",
       "    </tr>\n",
       "  </tbody>\n",
       "</table>\n",
       "</div>"
      ],
      "text/plain": [
       "                              1D     5D    10D    21D\n",
       "Quantile 1 Mean Turnover   0.682  0.753  0.778  0.794\n",
       "Quantile 2 Mean Turnover   0.758  0.784  0.790  0.797\n",
       "Quantile 3 Mean Turnover   0.764  0.789  0.791  0.798\n",
       "Quantile 4 Mean Turnover   0.761  0.785  0.790  0.800\n",
       "Quantile 5 Mean Turnover   0.649  0.713  0.751  0.779"
      ]
     },
     "metadata": {},
     "output_type": "display_data"
    },
    {
     "data": {
      "text/html": [
       "<div>\n",
       "<style scoped>\n",
       "    .dataframe tbody tr th:only-of-type {\n",
       "        vertical-align: middle;\n",
       "    }\n",
       "\n",
       "    .dataframe tbody tr th {\n",
       "        vertical-align: top;\n",
       "    }\n",
       "\n",
       "    .dataframe thead th {\n",
       "        text-align: right;\n",
       "    }\n",
       "</style>\n",
       "<table border=\"1\" class=\"dataframe\">\n",
       "  <thead>\n",
       "    <tr style=\"text-align: right;\">\n",
       "      <th></th>\n",
       "      <th>1D</th>\n",
       "      <th>5D</th>\n",
       "      <th>10D</th>\n",
       "      <th>21D</th>\n",
       "    </tr>\n",
       "  </thead>\n",
       "  <tbody>\n",
       "    <tr>\n",
       "      <th>Mean Factor Rank Autocorrelation</th>\n",
       "      <td>0.23</td>\n",
       "      <td>0.125</td>\n",
       "      <td>0.065</td>\n",
       "      <td>0.016</td>\n",
       "    </tr>\n",
       "  </tbody>\n",
       "</table>\n",
       "</div>"
      ],
      "text/plain": [
       "                                    1D     5D    10D    21D\n",
       "Mean Factor Rank Autocorrelation  0.23  0.125  0.065  0.016"
      ]
     },
     "metadata": {},
     "output_type": "display_data"
    },
    {
     "data": {
      "text/plain": [
       "<Figure size 640x480 with 0 Axes>"
      ]
     },
     "metadata": {},
     "output_type": "display_data"
    },
    {
     "data": {
      "image/png": "[encoded data removed]",
      "text/plain": [
       "<Figure size 1400x9800 with 1 Axes>"
      ]
     },
     "metadata": {},
     "output_type": "display_data"
    }
   ],
   "source": [
    "create_summary_tear_sheet(factor_data)"
   ]
  }
 ],
 "metadata": {
  "kernelspec": {
   "display_name": "venv",
   "language": "python",
   "name": "python3"
  },
  "language_info": {
   "codemirror_mode": {
    "name": "ipython",
    "version": 3
   },
   "file_extension": ".py",
   "mimetype": "text/x-python",
   "name": "python",
   "nbconvert_exporter": "python",
   "pygments_lexer": "ipython3",
   "version": "3.10.8"
  },
  "toc": {
   "base_numbering": 1,
   "nav_menu": {},
   "number_sections": true,
   "sideBar": true,
   "skip_h1_title": true,
   "title_cell": "Table of Contents",
   "title_sidebar": "Contents",
   "toc_cell": false,
   "toc_position": {
    "height": "calc(100% - 180px)",
    "left": "10px",
    "top": "150px",
    "width": "374.162px"
   },
   "toc_section_display": true,
   "toc_window_display": true
  },
  "vscode": {
   "interpreter": {
    "hash": "76e00306fe54e9616e8278d0ea70030ac79c27b4df856d98114d8e931a9d4cc9"
   }
  }
 },
 "nbformat": 4,
 "nbformat_minor": 2
}
